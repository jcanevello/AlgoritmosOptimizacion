{
  "nbformat": 4,
  "nbformat_minor": 0,
  "metadata": {
    "colab": {
      "provenance": [],
      "include_colab_link": true
    },
    "kernelspec": {
      "name": "python3",
      "display_name": "Python 3"
    },
    "language_info": {
      "name": "python"
    }
  },
  "cells": [
    {
      "cell_type": "markdown",
      "metadata": {
        "id": "view-in-github",
        "colab_type": "text"
      },
      "source": [
        "<a href=\"https://colab.research.google.com/github/jcanevello/MIA-AlgoritmosOptimizacion/blob/master/Jean_Canevello_AG1.ipynb\" target=\"_parent\"><img src=\"https://colab.research.google.com/assets/colab-badge.svg\" alt=\"Open In Colab\"/></a>"
      ]
    },
    {
      "cell_type": "markdown",
      "source": [
        "Actividad Guiada 1 de Algoritmos de Optimización<br>\n",
        "Nombre: Jean Canevello <br>\n",
        "https://colab.research.google.com/drive/1r2lHZMbwVr1t7ByaiT3O4EBlKMp3d4Mt?usp=sharing <br>\n",
        "https://github.com/jcanevello/MIA-AlgoritmosOptimizacion/blob/master/Jean_Canevello_AG1.ipynb\n",
        "\n"
      ],
      "metadata": {
        "id": "Ghr_55MLQyZQ"
      }
    },
    {
      "cell_type": "markdown",
      "source": [
        "# **PROBLEMA 1 | DIVIDE Y VENCERÁS | TORRES DE HANOY**\n",
        "Trasladar una torre de varios de niveles de una posición a otra"
      ],
      "metadata": {
        "id": "Bt6-EFcf1esS"
      }
    },
    {
      "cell_type": "code",
      "source": [
        "'''\n",
        "Return: Secuencia de pasos para mover cada nivel de la torre hacia las\n",
        "        distintas posiciones\n",
        "Params:\n",
        "  N: Cantidad de niveles de la torre\n",
        "  desde: posición inicial de la torre\n",
        "  hasta: posición final de la torre\n",
        "'''\n",
        "def torres_hanoy(N, desde, hasta):\n",
        "  if N == 1:\n",
        "    print(\"Llevar desde :\", str(desde), \" hasta \", str(hasta))\n",
        "  else:\n",
        "    torres_hanoy(N-1, desde, 6-desde-hasta)\n",
        "    print(\"Llevar desde :\", str(desde), \" hasta \", str(hasta))\n",
        "    torres_hanoy(N-1, 6-desde-hasta, hasta)\n",
        "\n",
        "torres_hanoy(3, 1, 3)"
      ],
      "metadata": {
        "id": "0OGAiVqIRT3E",
        "colab": {
          "base_uri": "https://localhost:8080/"
        },
        "outputId": "62a37dd5-9fea-4151-e987-ce8bc6c56832"
      },
      "execution_count": null,
      "outputs": [
        {
          "output_type": "stream",
          "name": "stdout",
          "text": [
            "Llevar desde : 1  hasta  3\n",
            "Llevar desde : 1  hasta  2\n",
            "Llevar desde : 3  hasta  2\n",
            "Llevar desde : 1  hasta  3\n",
            "Llevar desde : 2  hasta  1\n",
            "Llevar desde : 2  hasta  3\n",
            "Llevar desde : 1  hasta  3\n"
          ]
        }
      ]
    },
    {
      "cell_type": "markdown",
      "source": [
        "# **PROBLEMA 2 | ALGORITMOS VORACES | CAMBIO DE MONEDA**\n",
        "Devolver la menor cantidad de monedas de un valor utilizando el sistema de monedas definido para el problema"
      ],
      "metadata": {
        "id": "d8NxwoNLoD34"
      }
    },
    {
      "cell_type": "markdown",
      "source": [
        "**Solución utilizando algoritmos voraces**"
      ],
      "metadata": {
        "id": "_evt7bZYZ9UN"
      }
    },
    {
      "cell_type": "code",
      "source": [
        "'''\n",
        "Return: Numero de monedas del cambio\n",
        "Params:\n",
        "  valor: Valor entero o decimal equivalente al monto que se debe cambiar \n",
        "                por monedas, ejm: 13\n",
        "  sistema: Lista de enteros o decimales equivalente al valor de las \n",
        "                monedas, ejem: [1,4,8]\n",
        "'''\n",
        "def cambio_moneda(valor, sistema):\n",
        "  val_init = valor\n",
        "  solucion = {}\n",
        "  for moneda in sorted(sistema, reverse=True):\n",
        "    #calcula el cociente de la división entre el monto y el valor de la moneda\n",
        "    nro_moneda = valor // moneda\n",
        "    solucion[moneda] = nro_moneda\n",
        "    if nro_moneda > 0:\n",
        "      valor -= nro_moneda*moneda\n",
        "\n",
        "  return f'valor:{val_init}, sistema de moneda:{sistema}'"
      ],
      "metadata": {
        "id": "LRfx5t_0gnJT"
      },
      "execution_count": null,
      "outputs": []
    },
    {
      "cell_type": "code",
      "source": [
        "print(cambio_moneda(15, [11,5,1]))\n",
        "print(cambio_moneda(8, [1,4,6]))"
      ],
      "metadata": {
        "colab": {
          "base_uri": "https://localhost:8080/"
        },
        "id": "h8oUt0CIsVd6",
        "outputId": "697b147a-d29d-424b-8e37-65e45830fe2b"
      },
      "execution_count": null,
      "outputs": [
        {
          "output_type": "stream",
          "name": "stdout",
          "text": [
            "valor:15, sistema de moneda:[11, 5, 1]\n",
            "valor:8, sistema de moneda:[1, 4, 6]\n"
          ]
        }
      ]
    },
    {
      "cell_type": "markdown",
      "source": [
        "El algoritmo Voráz no es una solución eficiente para el problema de cambio de moneda ya que solo funciona bien para casos limitados, por ejemplo para el caso donde se busca cambiar un valor de 8 con monedas 1, 4 y 6 da como resultado 3 monedas(1 moneda de 6 y dos de 1), sin embargo; existe una solución más optima utilizando dos monedas de 4.\n",
        "\n",
        "Para obtener los resultados óptimos utilizaremos Programación Dinámica para este problema."
      ],
      "metadata": {
        "id": "vdpcy1nRPwn6"
      }
    },
    {
      "cell_type": "markdown",
      "source": [
        "**Solución utilizando Programación Dinámica**"
      ],
      "metadata": {
        "id": "2GonNmKHaJVb"
      }
    },
    {
      "cell_type": "code",
      "source": [
        "'''\n",
        "Return: Matriz con valores 0 y la primera fila con valores infinitos\n",
        "Params:\n",
        "  n_filas: valor entero, número de filas\n",
        "  n_columnas: valor entero, número de columnas\n",
        "'''\n",
        "def crear_matriz(n_filas, n_columnas):\n",
        "\n",
        "  #creación de la matriz\n",
        "  m = [[0 for _ in range(n_columnas)] for _ in range(n_filas)]\n",
        "  \n",
        "  #asigna valor de infinito a la primera fila\n",
        "  for j in range(n_columnas):\n",
        "    m[0][j] = float('inf')\n",
        "\n",
        "  return m\n",
        "\n",
        "'''\n",
        "Return: Numero de monedas del cambio\n",
        "Params:\n",
        "  valor_cambio: Valor entero o decimal equivalente al monto que se debe cambiar \n",
        "                por monedas, ejm: 13\n",
        "  sistema_moneda: Lista de enteros o decimales equivalente al valor de las \n",
        "                monedas, ejem: [1,4,8]\n",
        "'''\n",
        "def cambio_moneda2(valor_cambio, sistema_moneda):\n",
        "  n_filas = len(sistema_moneda)+1\n",
        "  n_columnas = valor_cambio +1\n",
        "\n",
        "  #matriz donde se van a guardar todos los valores calculados\n",
        "  matriz = crear_matriz(n_filas, n_columnas)\n",
        "\n",
        "  # lista con valores del 0 hasta n_columnas\n",
        "  vector_valor = [j for j in range(n_columnas)] \n",
        "\n",
        "  for i in range(1, n_filas):\n",
        "    for j in range(1, n_columnas):\n",
        "      #valor de la moneda elegida es mayor al valor de cambio\n",
        "      if sistema_moneda[i-1] > vector_valor[j]:\n",
        "        #se asigna el valor de la fila anterior respecto a la misma columna \n",
        "        matriz[i][j] = matriz[i-1][j]\n",
        "      else:\n",
        "        #se asigna el menor valor entre a y b, siendo:\n",
        "        #a: el valor de la fila anterior respecto a la misma columna\n",
        "        #b: el valor de la fila respecto a la posición de la columna c.\n",
        "        #c: diferencia entre el valor de cambio y el valor de la moneda aumentado en 1\n",
        "        matriz[i][j] = min(matriz[i-1][j], \n",
        "                           matriz[i][vector_valor[j]-sistema_moneda[i-1]]+1)\n",
        "\n",
        "  return f\"Cantidad de monedas de cambio de {valor_cambio} con sistema {sistema_moneda}: {matriz[-1][-1]}\""
      ],
      "metadata": {
        "id": "rwV14QujNe2U"
      },
      "execution_count": null,
      "outputs": []
    },
    {
      "cell_type": "code",
      "source": [
        "print(cambio_moneda2(8, [1,4,6]))\n",
        "print(cambio_moneda2(15, [1,5,11]))"
      ],
      "metadata": {
        "id": "yiq8VUJRLgdV",
        "outputId": "a52221a0-1c21-4589-b41e-c36e0cf7476b",
        "colab": {
          "base_uri": "https://localhost:8080/"
        }
      },
      "execution_count": null,
      "outputs": [
        {
          "output_type": "stream",
          "name": "stdout",
          "text": [
            "Cantidad de monedas de cambio de 8 con sistema [1, 4, 6]: 2\n",
            "Cantidad de monedas de cambio de 15 con sistema [1, 5, 11]: 3\n"
          ]
        }
      ]
    },
    {
      "cell_type": "markdown",
      "source": [
        "# **PROBLEMA 3 | ALGORITMOS DE VUELTA ATRÁS | PROBLEMA DE LAS 4 REINAS**\n",
        "Devolver todas las posiciones posibles de N reinas en un tablero de NxN sin realizar jaque entre ellas"
      ],
      "metadata": {
        "id": "m9W21gIctvrE"
      }
    },
    {
      "cell_type": "code",
      "source": [
        "'''\n",
        "Return: Valor booleano que indica si la posición elegida es válida\n",
        "Params:\n",
        "  solucion: solucion parcial\n",
        "  etapa: numero de reinas colocadas en la solucion parcial\n",
        "'''\n",
        "def es_prometedora(SOLUCION, etapa):\n",
        "\n",
        "  #Si la solución tiene dos valores iguales no es válida\n",
        "  for i in range(etapa+1):\n",
        "    if SOLUCION.count(SOLUCION[i]) > 1: \n",
        "      return False\n",
        "\n",
        "    #valida las diagonales\n",
        "    for j in range(i+1, etapa + 1):\n",
        "      if abs(i-j) == abs(SOLUCION[i] - SOLUCION[j]) : \n",
        "        return False\n",
        "  \n",
        "  return True\n",
        "\n",
        "def escribe_solucion(s):\n",
        "  n = len(s)\n",
        "  for x in range(n):\n",
        "    print(\"\")\n",
        "    for i in range(n):\n",
        "      if s[i] == x+1:\n",
        "        print(\" X \", end='')\n",
        "      else:\n",
        "        print(\" - \", end='')\n",
        "\n",
        "  print('\\n')\n",
        "\n",
        "'''\n",
        "Return: Listas de posibles soluciones\n",
        "Params:\n",
        "  N: Cantidad de reias en el juego\n",
        "  solucion: solución parcial\n",
        "  etapa: Número de reinas colocadas en la solución parcial\n",
        "'''\n",
        "def reinas(N, solucion=[], etapa=0):\n",
        "  \n",
        "  #inicia con una solución de ceros\n",
        "  if len(solucion) == 0:\n",
        "    solucion = [0 for i in range(N)]\n",
        "\n",
        "  for i in range(1, N+1):\n",
        "    solucion[etapa] = i\n",
        "    \n",
        "    if es_prometedora(solucion, etapa):\n",
        "      if etapa == N-1:\n",
        "        print(solucion)\n",
        "      else:\n",
        "        reinas(N, solucion, etapa+1)\n",
        "    else: None\n",
        "  \n",
        "  solucion[etapa] = 0\n",
        "\n",
        "reinas(4, solucion=[], etapa=0)"
      ],
      "metadata": {
        "colab": {
          "base_uri": "https://localhost:8080/"
        },
        "id": "QKWsinNBuNtD",
        "outputId": "9a286f22-3978-4c7a-857d-f5eccfcb6cee"
      },
      "execution_count": null,
      "outputs": [
        {
          "output_type": "stream",
          "name": "stdout",
          "text": [
            "[2, 4, 1, 3]\n",
            "[3, 1, 4, 2]\n"
          ]
        }
      ]
    },
    {
      "cell_type": "code",
      "source": [
        "escribe_solucion([2, 4, 1, 3])\n",
        "escribe_solucion([3, 1, 4, 2])"
      ],
      "metadata": {
        "colab": {
          "base_uri": "https://localhost:8080/"
        },
        "id": "cb3O_RLL3C3f",
        "outputId": "28422458-c2d8-4dee-e955-dc238207981e"
      },
      "execution_count": null,
      "outputs": [
        {
          "output_type": "stream",
          "name": "stdout",
          "text": [
            "\n",
            " -  -  X  - \n",
            " X  -  -  - \n",
            " -  -  -  X \n",
            " -  X  -  - \n",
            "\n",
            "\n",
            " -  X  -  - \n",
            " -  -  -  X \n",
            " X  -  -  - \n",
            " -  -  X  - \n",
            "\n"
          ]
        }
      ]
    },
    {
      "cell_type": "markdown",
      "source": [
        "# **PROBLEMA 4 | PROGRAMACIÓN DINÁMICA | VIAJE POR EL RÍO**\n",
        "Devolver la menor tarifa para ir del punto A al punto B"
      ],
      "metadata": {
        "id": "b92B3Mg7QsKl"
      }
    },
    {
      "cell_type": "code",
      "source": [
        "'''\n",
        "Return: Dos listas de precio y ruta\n",
        "Params: \n",
        "  tarifa: matriz de precios entre nodo y nodo\n",
        "'''\n",
        "def precios(tarifas):\n",
        "  #Total de nodos\n",
        "  n = len(tarifas[0])\n",
        "\n",
        "  #creación de la tabla de precios\n",
        "  precios = [[float('inf')]*n for i in [float('inf')]*n]\n",
        "  ruta = [['']*n for i in ['']*n]\n",
        "\n",
        "  #recorre hasta la penultima fila porque los nodos no son bidireccional\n",
        "  for i in range(n-1): \n",
        "    #empieza de i+1 porque los nodos no son cíclicos\n",
        "    for j in range(i+1, n):\n",
        "      precio_min = tarifas[i][j]\n",
        "      ruta[i][j] = i\n",
        "\n",
        "      #calcula el menor precio hasta el nodo j\n",
        "      for k in range(i,j):\n",
        "        if precios[i][k] + tarifas[k][j] < precio_min:\n",
        "          precio_min = min(precio_min, precios[i][k] + tarifas[k][j])\n",
        "          ruta[i][j] = k\n",
        "        precios[i][j] = precio_min\n",
        "\n",
        "  return precios, ruta\n",
        "\n",
        "def calcular_ruta(ruta, desde, hasta):\n",
        "  if desde == hasta:\n",
        "    return desde\n",
        "  else:\n",
        "    return str(calcular_ruta(ruta, desde, ruta[desde][hasta])) + ',' + str(ruta[desde][hasta])\n",
        "\n",
        "\n",
        "def calcular_ruta2(m_ruta, desde, hasta):\n",
        "\n",
        "  ruta = [hasta]\n",
        "  while desde != hasta:\n",
        "    nodo_ant = m_ruta[desde][hasta]\n",
        "    ruta.insert(0, nodo_ant)\n",
        "    hasta = nodo_ant\n",
        "\n",
        "  return ','.join(map(str, ruta))"
      ],
      "metadata": {
        "id": "nNFZvZIblC_q"
      },
      "execution_count": null,
      "outputs": []
    },
    {
      "cell_type": "code",
      "source": [
        "tarifas = [\n",
        "    [0,5,4,3,float('inf'),float('inf'),float('inf')],\n",
        "    [float('inf'),0,float('inf'),2,3,float('inf'),11],\n",
        "    [float('inf'),float('inf'),0,1,float('inf'),4,10],\n",
        "    [float('inf'),float('inf'),float('inf'),0,5,6,9],\n",
        "    [float('inf'),float('inf'),float('inf'),float('inf'),0,float('inf'),4],\n",
        "    [float('inf'),float('inf'),float('inf'),float('inf'),float('inf'),float('inf'),0]\n",
        "]\n",
        "\n",
        "precios, ruta = precios(tarifas)\n",
        "print(f'La ruta de menor costo es: {calcular_ruta2(ruta, 0, 6)}')"
      ],
      "metadata": {
        "id": "f6FnaVEfhoCV",
        "outputId": "2f3c2b4f-1647-4526-9f17-be7ee6fc706b",
        "colab": {
          "base_uri": "https://localhost:8080/"
        }
      },
      "execution_count": null,
      "outputs": [
        {
          "output_type": "stream",
          "name": "stdout",
          "text": [
            "La ruta de menor costo es: 0,2,5,6\n"
          ]
        }
      ]
    },
    {
      "cell_type": "markdown",
      "source": [
        "# **PROBLEMA 5 | PUNTOS MÁS CERCANOS**\n",
        "Devolver el par de puntos más cercanos de una lista"
      ],
      "metadata": {
        "id": "dhZHIRGv6S2C"
      }
    },
    {
      "cell_type": "markdown",
      "source": [
        "**Algoritmo por Fuerza Bruta**"
      ],
      "metadata": {
        "id": "WPazxX1v3YRu"
      }
    },
    {
      "cell_type": "code",
      "source": [
        "import random\n",
        "\n",
        "'''\n",
        "Return: Par de números más cercanos\n",
        "params: Lista de números a evaluar\n",
        "'''\n",
        "def puntos_cercanos_fb(puntos):\n",
        "  tamanoLista = len(puntos)\n",
        "  disMin = float(\"inf\")\n",
        "  p1 = 0\n",
        "  p2 = 0\n",
        "\n",
        "  for i in range(tamanoLista):\n",
        "    for j in range(i+1, tamanoLista):\n",
        "      dis = abs(puntos[i] - puntos[j])\n",
        "\n",
        "      if dis < disMin:\n",
        "        disMin = dis\n",
        "        p1 = puntos[i]\n",
        "        p2 = puntos[j]\n",
        "\n",
        "  return p1, p2\n",
        "\n",
        "lista_1d = random.sample(range(0,10000),10)\n",
        "print(f'Los puntos más cercanos son:{puntos_cercanos_fb(lista_1d)}')\n"
      ],
      "metadata": {
        "colab": {
          "base_uri": "https://localhost:8080/"
        },
        "id": "xioxCott8YYi",
        "outputId": "0dc47056-e75d-446e-8f02-2042db61bd9a"
      },
      "execution_count": null,
      "outputs": [
        {
          "output_type": "stream",
          "name": "stdout",
          "text": [
            "Los puntos más cercanos son:(7443, 7470)\n"
          ]
        }
      ]
    },
    {
      "cell_type": "markdown",
      "source": [
        "**Algoritmo de Divide y Vencerás para plano en 2D**"
      ],
      "metadata": {
        "id": "7GbU0qB73m4B"
      }
    },
    {
      "cell_type": "code",
      "source": [
        "import random\n",
        "import math\n",
        "\n",
        "'''\n",
        "Return: lista de puntos ordenados por eje x o y\n",
        "Params:\n",
        "  puntos_2d: lista de puntos en el plano 2D\n",
        "  eje_x: True si el orden es en el eje x y False para eje y\n",
        "'''\n",
        "def ordenar_por_eje(puntos_2d, eje_x = True):\n",
        "  eje = 0 if eje_x else 1\n",
        "  for _ in range(1, len(puntos_2d)):\n",
        "    for i in range(0, len(puntos_2d)-1):\n",
        "      if puntos_2d[i][eje] > puntos_2d[i+1][eje]:\n",
        "          aux = puntos_2d[i+1]\n",
        "          puntos_2d[i+1] = puntos_2d[i]\n",
        "          puntos_2d[i] = aux\n",
        "          \n",
        "  return puntos_2d\n",
        "\n",
        "'''\n",
        "Return: Distancia entre dos puntos\n",
        "Params:\n",
        "  punto_1: tupla de coordenadas x,y en el plano 2d\n",
        "  punto_2: tupla de coordenadas x,y en el plano 2d\n",
        "'''\n",
        "def distancia_euclidiana_2d(punto_1, punto_2):\n",
        "  return math.sqrt(math.pow(punto_2[0]-punto_1[0], 2) + math.pow(punto_2[1] - punto_1[1], 2))\n",
        "\n",
        "'''\n",
        "Return: Menor distancia entre una lista de 2 o 3 puntos\n",
        "Params:\n",
        "  list_puntos: lista de coordenadas x,y en el plano 2d \n",
        "'''\n",
        "def minima_distancia(list_puntos):\n",
        "  \n",
        "  dis_1 = distancia_euclidiana_2d(list_puntos[0], list_puntos[1])\n",
        "  dis_2 = distancia_euclidiana_2d(list_puntos[0], list_puntos[2]) if len(list_puntos) == 3 else float('inf')\n",
        "  dis_3 = distancia_euclidiana_2d(list_puntos[1], list_puntos[2]) if len(list_puntos) == 3 else float('inf')\n",
        "  dis_min = min(dis_1, dis_2, dis_3)\n",
        "\n",
        "  if dis_min == dis_1 :\n",
        "    return dis_min, list_puntos[0], list_puntos[1]\n",
        "  if dis_min == dis_2 :\n",
        "    return dis_min, list_puntos[0], list_puntos[2]\n",
        "  if dis_min == dis_3 :\n",
        "    return dis_min, list_puntos[1], list_puntos[2]\n",
        "\n",
        "'''\n",
        "Return: Menor distancia y el par de puntos que lo conforma\n",
        "Params:\n",
        "  list_puntos: lista de puntos en plano 2D\n",
        "'''\n",
        "\n",
        "def puntos_mas_cercanos(list_puntos):\n",
        "  ctd_puntos = len(list_puntos)\n",
        "  pi = 0\n",
        "  pd = 0\n",
        "\n",
        "  if ctd_puntos <= 3:\n",
        "    min_distancia, pi, pd = minima_distancia(list_puntos)\n",
        "  else:\n",
        "    #genera dos sublistas de igual longitud para encontrar de menor distancia\n",
        "    #en cada sublista utilizando recursividad\n",
        "    media_ctd_puntos = int(ctd_puntos/2)\n",
        "    list_puntos_izquierda = list_puntos[:media_ctd_puntos]\n",
        "    list_puntos_derecha = list_puntos[media_ctd_puntos:]\n",
        "    min_distancia_izq, pi_1, pi_2 = puntos_mas_cercanos(list_puntos_izquierda)\n",
        "    min_distancia_der, pd_1, pd_2 = puntos_mas_cercanos(list_puntos_derecha)\n",
        "    \n",
        "    #mínima distancia encontrada entre las sublistas\n",
        "    min_distancia = min(min_distancia_izq, min_distancia_der)\n",
        "\n",
        "    if min_distancia == min_distancia_izq:\n",
        "      pi = pi_1\n",
        "      pd = pi_2\n",
        "    else:\n",
        "      pi = pd_1\n",
        "      pd = pd_2\n",
        "\n",
        "    '''\n",
        "      Bloque para encontrar puntos más cercanos entre la linea media\n",
        "    '''\n",
        "    #calcula el rango de valores en el eje x para la lista central\n",
        "    valor_medio = abs(list_puntos_izquierda[-1][0] + list_puntos_derecha[0][0])/2\n",
        "    x_min = valor_medio - min_distancia\n",
        "    x_max = valor_medio + min_distancia\n",
        "\n",
        "    #selecciona los puntos que se encuentra dentro del rango x\n",
        "    list_puntos_medios = []\n",
        "    for punto in list_puntos:\n",
        "      if punto[0] >= x_min and punto[0] <= x_max:\n",
        "        list_puntos_medios.append(punto)\n",
        "\n",
        "    list_puntos_medios_asc = ordenar_por_eje(list_puntos_medios, eje_x=False)\n",
        "    \n",
        "    #busca una distancia menor al encontrado en el lado izq y der\n",
        "    max_index = len(list_puntos_medios_asc)-1\n",
        "    for i in range(len(list_puntos_medios_asc)):\n",
        "      for k in range(0, 12):\n",
        "        if (k+i+1) <= max_index:\n",
        "          distancia = distancia_euclidiana_2d(\n",
        "                        list_puntos_medios_asc[i], \n",
        "                        list_puntos_medios_asc[k+i+1]\n",
        "                      )\n",
        "          \n",
        "          if distancia < min_distancia:\n",
        "            min_distancia = distancia\n",
        "            pi = list_puntos_medios_asc[i]\n",
        "            pd = list_puntos_medios_asc[k+i+1]\n",
        "    \n",
        "  return min_distancia, pi, pd\n",
        "\n",
        "lista_2d = [(random.randrange(1, 10000), random.randrange(1, 10000)) for _ in range(1000)]\n",
        "lista_puntos_2d = ordenar_por_eje(lista_2d)\n",
        "resultado = puntos_mas_cercanos(lista_puntos_2d)\n",
        "print(f'La menor distancia es {resultado[0]} con los puntos {resultado[1]} y {resultado[2]}')"
      ],
      "metadata": {
        "colab": {
          "base_uri": "https://localhost:8080/"
        },
        "id": "1SWBoUzODJqi",
        "outputId": "af5e39ba-6bf8-46a5-b96d-8fc0d8496c64"
      },
      "execution_count": null,
      "outputs": [
        {
          "output_type": "stream",
          "name": "stdout",
          "text": [
            "La menor distancia es 12.529964086141668 con los puntos (8513, 7901) y (8519, 7912)\n"
          ]
        }
      ]
    }
  ]
}