{
  "nbformat": 4,
  "nbformat_minor": 0,
  "metadata": {
    "colab": {
      "provenance": [],
      "include_colab_link": true
    },
    "kernelspec": {
      "name": "python3",
      "display_name": "Python 3"
    },
    "language_info": {
      "name": "python"
    }
  },
  "cells": [
    {
      "cell_type": "markdown",
      "metadata": {
        "id": "view-in-github",
        "colab_type": "text"
      },
      "source": [
        "<a href=\"https://colab.research.google.com/github/jcanevello/MIA-AlgoritmosOptimizacion/blob/master/Algoritmos_AG2.ipynb\" target=\"_parent\"><img src=\"https://colab.research.google.com/assets/colab-badge.svg\" alt=\"Open In Colab\"/></a>"
      ]
    },
    {
      "cell_type": "markdown",
      "source": [
        "Nombre: Jean Canevello <br>\n",
        "##https://colab.research.google.com/drive/1KdGsTbI3pbVcxlExfabt7rZqMVuIyGcy?authuser=1#scrollTo=rTiqLuX2ZKuL <br>\n",
        "https://github.com/jcanevello/MIA-AlgoritmosOptimizacion/blob/master/Algoritmos_AG2.ipynb\n",
        "\n"
      ],
      "metadata": {
        "id": "Ghr_55MLQyZQ"
      }
    },
    {
      "cell_type": "markdown",
      "source": [
        "##1) Programación Dinámica. Viaje por el rio1"
      ],
      "metadata": {
        "id": "WwSnJ8Xqf_gT"
      }
    },
    {
      "cell_type": "code",
      "source": [
        "'''\n",
        "Return: Dos listas de precio y ruta\n",
        "Params: \n",
        "  tarifa: matriz de precios entre nodo y nodo\n",
        "'''\n",
        "def precios(tarifas):\n",
        "  #Total de nodos\n",
        "  n = len(tarifas[0])\n",
        "\n",
        "  #creación de la tabla de precios\n",
        "  precios = [[float('inf')]*n for i in [float('inf')]*n]\n",
        "  ruta = [['']*n for i in ['']*n]\n",
        "\n",
        "  #recorre hasta la penultima fila porque los nodos no son bidireccional\n",
        "  for i in range(n-1): \n",
        "    #empieza de i+1 porque los nodos no son cíclicos\n",
        "    for j in range(i+1, n):\n",
        "      precio_min = tarifas[i][j]\n",
        "      ruta[i][j] = i\n",
        "\n",
        "      #calcula el menor precio hasta el nodo j\n",
        "      for k in range(i,j):\n",
        "        if precios[i][k] + tarifas[k][j] < precio_min:\n",
        "          precio_min = min(precio_min, precios[i][k] + tarifas[k][j])\n",
        "          ruta[i][j] = k\n",
        "        precios[i][j] = precio_min\n",
        "\n",
        "  return precios, ruta\n",
        "\n",
        "def calcular_ruta(ruta, desde, hasta):\n",
        "  if desde == hasta:\n",
        "    return desde\n",
        "  else:\n",
        "    return str(calcular_ruta(ruta, desde, ruta[desde][hasta])) + ',' + str(ruta[desde][hasta])\n",
        "\n",
        "tarifas = [\n",
        "    [0,5,4,3,float('inf'),float('inf'),float('inf')],\n",
        "    [float('inf'),0,float('inf'),2,3,float('inf'),11],\n",
        "    [float('inf'),float('inf'),0,1,float('inf'),4,10],\n",
        "    [float('inf'),float('inf'),float('inf'),0,5,6,9],\n",
        "    [float('inf'),float('inf'),float('inf'),float('inf'),0,float('inf'),4],\n",
        "    [float('inf'),float('inf'),float('inf'),float('inf'),float('inf'),float('inf'),0]\n",
        "]\n",
        "\n",
        "precios, c = precios(tarifas)\n",
        "\n",
        "print(\"PRECIOS\")\n",
        "for i in range(len(tarifas)):\n",
        "  print(precios[i])\n",
        "\n",
        "print(\"\\nRUTA\")  \n",
        "for i in range(len(tarifas)):\n",
        "  print(ruta[i]) \n",
        "\n",
        "print(f'\\nLa ruta de menor costo es: {calcular_ruta(ruta, 0, 6)}')"
      ],
      "metadata": {
        "colab": {
          "base_uri": "https://localhost:8080/"
        },
        "id": "oHXHA-R9ZoCB",
        "outputId": "37786cdd-a4fa-4c70-d85f-40400f788e90"
      },
      "execution_count": 6,
      "outputs": [
        {
          "output_type": "stream",
          "name": "stdout",
          "text": [
            "PRECIOS\n",
            "[inf, 5, 4, 3, 8, 8, 8]\n",
            "[inf, inf, inf, 2, 3, 8, 7]\n",
            "[inf, inf, inf, 1, 6, 4, 4]\n",
            "[inf, inf, inf, inf, 5, 6, 6]\n",
            "[inf, inf, inf, inf, inf, inf, 4]\n",
            "[inf, inf, inf, inf, inf, inf, 0]\n",
            "\n",
            "RUTA\n",
            "['', 0, 0, 0, 1, 2, 5]\n",
            "['', '', 1, 1, 1, 3, 4]\n",
            "['', '', '', 2, 3, 2, 5]\n",
            "['', '', '', '', 3, 3, 5]\n",
            "['', '', '', '', '', 4, 4]\n",
            "['', '', '', '', '', '', 5]\n",
            "\n",
            "La ruta de menor costo es: 0,0,2,5\n"
          ]
        }
      ]
    },
    {
      "cell_type": "markdown",
      "source": [
        "##2) Problema de Asignacion de tarea"
      ],
      "metadata": {
        "id": "rbCUmfkvdzPU"
      }
    },
    {
      "cell_type": "code",
      "source": [
        "#Asignacion de tareas - Ramificación y Poda\n",
        "################################################################################\n",
        "#    T A R E A \n",
        "#   A\n",
        "#   G\n",
        "#   E\n",
        "#   N\n",
        "#   T\n",
        "#   E\n",
        "\n",
        "COSTES=[[11,12,18,40],\n",
        "        [14,15,13,22],\n",
        "        [11,17,19,23],\n",
        "        [17,14,20,28]]\n",
        "\n",
        "#Calculo del valor de una solucion parcial\n",
        "def valor(S,COSTES):\n",
        "  VALOR = 0\n",
        "  for i in range(len(S)):\n",
        "    VALOR += COSTES[S[i]][i] \n",
        "  return VALOR\n",
        "\n",
        "#valor((3,2,  ),COSTES)"
      ],
      "metadata": {
        "colab": {
          "base_uri": "https://localhost:8080/"
        },
        "id": "L4Gxdi1udEIP",
        "outputId": "ad6c2450-dfbb-4503-e8a3-57fdfd178812"
      },
      "execution_count": 7,
      "outputs": [
        {
          "output_type": "execute_result",
          "data": {
            "text/plain": [
              "34"
            ]
          },
          "metadata": {},
          "execution_count": 7
        }
      ]
    },
    {
      "cell_type": "code",
      "source": [
        "#Coste inferior para soluciones parciales\n",
        "#  (1,3,) Se asigna la tarea 1 al agente 0 y la tarea 3 al agente 1\n",
        "\n",
        "def CI(S,COSTES):\n",
        "  VALOR = 0\n",
        "  #Valores establecidos\n",
        "  for i in range(len(S)):\n",
        "    VALOR += COSTES[i][S[i]]\n",
        "\n",
        "  #Estimacion\n",
        "  for i in range( len(S), len(COSTES)   ):\n",
        "    VALOR += min( [ COSTES[j][i] for j in range(len(S), len(COSTES))  ])\n",
        "  return VALOR\n",
        "\n",
        "def CS(S,COSTES):\n",
        "  VALOR = 0\n",
        "  #Valores establecidos\n",
        "  for i in range(len(S)):\n",
        "    VALOR += COSTES[i][S[i]]\n",
        "\n",
        "  #Estimacion\n",
        "  for i in range( len(S), len(COSTES)   ):\n",
        "    VALOR += max( [ COSTES[j][i] for j in range(len(S), len(COSTES))  ])\n",
        "  return VALOR\n",
        "\n",
        "CI((0,1),COSTES)"
      ],
      "metadata": {
        "colab": {
          "base_uri": "https://localhost:8080/"
        },
        "id": "t6E2HAEgd34r",
        "outputId": "1d96a538-f3b7-47dd-f769-3c54bf7b4b78"
      },
      "execution_count": 9,
      "outputs": [
        {
          "output_type": "execute_result",
          "data": {
            "text/plain": [
              "68"
            ]
          },
          "metadata": {},
          "execution_count": 9
        }
      ]
    },
    {
      "cell_type": "code",
      "source": [
        "#Genera tantos hijos como como posibilidades haya para la siguiente elemento de la tupla\n",
        "#(0,) -> (0,1), (0,2), (0,3)\n",
        "def crear_hijos(NODO, N):\n",
        "  HIJOS = []\n",
        "  for i in range(N ):\n",
        "    if i not in NODO:\n",
        "      HIJOS.append({'s':NODO +(i,)    })\n",
        "  return HIJOS\n",
        "\n",
        "crear_hijos((0,) , 4)"
      ],
      "metadata": {
        "colab": {
          "base_uri": "https://localhost:8080/"
        },
        "id": "1VZFaTjrd6eU",
        "outputId": "e6992600-9c7d-4bfb-af6e-ca32a4bfafd3"
      },
      "execution_count": 11,
      "outputs": [
        {
          "output_type": "execute_result",
          "data": {
            "text/plain": [
              "[{'s': (0, 1)}, {'s': (0, 2)}, {'s': (0, 3)}]"
            ]
          },
          "metadata": {},
          "execution_count": 11
        }
      ]
    },
    {
      "cell_type": "code",
      "source": [
        "def ramificacion_y_poda(COSTES):\n",
        "#Construccion iterativa de soluciones(arbol). En cada etapa asignamos un agente(ramas).\n",
        "#Nodos del grafo  { s:(1,2),CI:3,CS:5  }\n",
        "  #print(COSTES)\n",
        "  DIMENSION = len(COSTES)  \n",
        "  MEJOR_SOLUCION=tuple( i for i in range(len(COSTES)) )\n",
        "  CotaSup = valor(MEJOR_SOLUCION,COSTES)\n",
        "  #print(\"Cota Superior:\", CotaSup)\n",
        "\n",
        "  NODOS=[]\n",
        "  NODOS.append({'s':(), 'ci':CI((),COSTES)    } )\n",
        "\n",
        "  iteracion = 0\n",
        "\n",
        "  while( len(NODOS) > 0):\n",
        "    iteracion +=1\n",
        "\n",
        "    nodo_prometedor = [ min(NODOS, key=lambda x:x['ci']) ][0]['s']\n",
        "    #print(\"Nodo prometedor:\", nodo_prometedor)\n",
        "\n",
        "    #Ramificacion\n",
        "    #Se generan los hijos\n",
        "    HIJOS =[ {'s':x['s'], 'ci':CI(x['s'], COSTES)   } for x in crear_hijos(nodo_prometedor, DIMENSION) ]\n",
        "\n",
        "    #Revisamos la cota superior y nos quedamos con la mejor solucion si llegamos a una solucion final\n",
        "    NODO_FINAL = [x for x in HIJOS if len(x['s']) == DIMENSION  ]\n",
        "    if len(NODO_FINAL ) >0: \n",
        "      #print(\"\\n********Soluciones:\",  [x for x in HIJOS if len(x['s']) == DIMENSION  ] )\n",
        "      if NODO_FINAL[0]['ci'] < CotaSup:\n",
        "        CotaSup = NODO_FINAL[0]['ci']\n",
        "        MEJOR_SOLUCION = NODO_FINAL\n",
        " \n",
        "    #Poda\n",
        "    HIJOS = [x for x in HIJOS if x['ci'] < CotaSup   ]\n",
        "\n",
        "    #Añadimos los hijos \n",
        "    NODOS.extend(HIJOS) \n",
        "\n",
        "    #Eliminamos el nodo ramificado\n",
        "    NODOS =  [  x for x in NODOS if x['s'] != nodo_prometedor    ]\n",
        "   \n",
        "  print(\"La solucion final es:\" ,MEJOR_SOLUCION , \" en \" , iteracion , \" iteraciones\" , \" para dimension: \" ,DIMENSION  )\n",
        "      \n",
        "\n",
        "\n",
        "ramificacion_y_poda(COSTES)"
      ],
      "metadata": {
        "colab": {
          "base_uri": "https://localhost:8080/"
        },
        "id": "xJVV-msgeAfQ",
        "outputId": "7cb662e4-6b6b-4fac-995c-27ad09496946"
      },
      "execution_count": 12,
      "outputs": [
        {
          "output_type": "stream",
          "name": "stdout",
          "text": [
            "La solucion final es: [{'s': (1, 2, 0, 3), 'ci': 64}]  en  10  iteraciones  para dimension:  4\n"
          ]
        }
      ]
    }
  ]
}