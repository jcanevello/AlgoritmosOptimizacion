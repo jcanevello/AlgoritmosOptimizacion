{
  "nbformat": 4,
  "nbformat_minor": 0,
  "metadata": {
    "colab": {
      "provenance": []
    },
    "kernelspec": {
      "name": "python3",
      "display_name": "Python 3"
    },
    "language_info": {
      "name": "python"
    }
  },
  "cells": [
    {
      "cell_type": "markdown",
      "source": [
        "Nombre: Jean Canevello <br>\n",
        "https://colab.research.google.com/drive/1KdGsTbI3pbVcxlExfabt7rZqMVuIyGcy?authuser=1#scrollTo=rTiqLuX2ZKuL <br>\n",
        "https://github.com/jcanevello/AlgoritmosOptimizacion/blob/master/Algoritmos_AG1.ipynb\n",
        "\n"
      ],
      "metadata": {
        "id": "Ghr_55MLQyZQ"
      }
    },
    {
      "cell_type": "markdown",
      "source": [
        "# **PROBLEMA 1 | DIVIDE Y VENCERÁS | TORRES DE HANOY**\n",
        "Trasladar una torre de varios de niveles de una posición a otra"
      ],
      "metadata": {
        "id": "Bt6-EFcf1esS"
      }
    },
    {
      "cell_type": "code",
      "source": [
        "'''\n",
        "Return: Secuencia de pasos para mover cada nivel de la torre hacia las\n",
        "        distintas posiciones\n",
        "Params:\n",
        "  N: Cantidad de niveles de la torre\n",
        "  desde: posición inicial de la torre\n",
        "  hasta: posición final de la torre\n",
        "'''\n",
        "def torres_hanoy(N, desde, hasta):\n",
        "  if N == 1:\n",
        "    print(\"Llevar desde :\", str(desde), \" hasta \", str(hasta))\n",
        "  else:\n",
        "    torres_hanoy(N-1, desde, 6-desde-hasta)\n",
        "    print(\"Llevar desde :\", str(desde), \" hasta \", str(hasta))\n",
        "    torres_hanoy(N-1, 6-desde-hasta, hasta)\n",
        "\n",
        "torres_hanoy(3, 1, 3)"
      ],
      "metadata": {
        "id": "0OGAiVqIRT3E",
        "colab": {
          "base_uri": "https://localhost:8080/"
        },
        "outputId": "62a37dd5-9fea-4151-e987-ce8bc6c56832"
      },
      "execution_count": 3,
      "outputs": [
        {
          "output_type": "stream",
          "name": "stdout",
          "text": [
            "Llevar desde : 1  hasta  3\n",
            "Llevar desde : 1  hasta  2\n",
            "Llevar desde : 3  hasta  2\n",
            "Llevar desde : 1  hasta  3\n",
            "Llevar desde : 2  hasta  1\n",
            "Llevar desde : 2  hasta  3\n",
            "Llevar desde : 1  hasta  3\n"
          ]
        }
      ]
    },
    {
      "cell_type": "markdown",
      "source": [
        "# **PROBLEMA 2 | ALGORITMOS VORACES | CAMBIO DE MONEDA**\n",
        "Devolver la menor cantidad de monedas de un valor utilizando el sistema de monedas definido para el problema"
      ],
      "metadata": {
        "id": "d8NxwoNLoD34"
      }
    },
    {
      "cell_type": "markdown",
      "source": [
        "**Solución utilizando algoritmos voraces**"
      ],
      "metadata": {
        "id": "_evt7bZYZ9UN"
      }
    },
    {
      "cell_type": "code",
      "source": [
        "'''\n",
        "Return: Numero de monedas del cambio\n",
        "Params:\n",
        "  valor: Valor entero o decimal equivalente al monto que se debe cambiar \n",
        "                por monedas, ejm: 13\n",
        "  sistema: Lista de enteros o decimales equivalente al valor de las \n",
        "                monedas, ejem: [1,4,8]\n",
        "'''\n",
        "def cambio_moneda(valor, sistema):\n",
        "  val_init = valor\n",
        "  solucion = {}\n",
        "  for moneda in sorted(sistema, reverse=True):\n",
        "    #calcula el cociente de la división entre el monto y el valor de la moneda\n",
        "    nro_moneda = valor // moneda\n",
        "    solucion[moneda] = nro_moneda\n",
        "    if nro_moneda > 0:\n",
        "      valor -= nro_moneda*moneda\n",
        "\n",
        "  return f'valor:{val_init}, sistema de moneda:{sistema}'"
      ],
      "metadata": {
        "id": "LRfx5t_0gnJT"
      },
      "execution_count": null,
      "outputs": []
    },
    {
      "cell_type": "code",
      "source": [
        "print(cambio_moneda(15, [11,5,1]))\n",
        "print(cambio_moneda(8, [1,4,6]))"
      ],
      "metadata": {
        "colab": {
          "base_uri": "https://localhost:8080/"
        },
        "id": "h8oUt0CIsVd6",
        "outputId": "697b147a-d29d-424b-8e37-65e45830fe2b"
      },
      "execution_count": null,
      "outputs": [
        {
          "output_type": "stream",
          "name": "stdout",
          "text": [
            "valor:15, sistema de moneda:[11, 5, 1]\n",
            "valor:8, sistema de moneda:[1, 4, 6]\n"
          ]
        }
      ]
    },
    {
      "cell_type": "markdown",
      "source": [
        "El algoritmo Voráz no es una solución eficiente para el problema de cambio de moneda ya que solo funciona bien para casos limitados, por ejemplo para el caso donde se busca cambiar un valor de 8 con monedas 1, 4 y 6 da como resultado 3 monedas(1 moneda de 6 y dos de 1), sin embargo; existe una solución más optima utilizando dos monedas de 4.\n",
        "\n",
        "Para obtener los resultados óptimos utilizaremos Programación Dinámica para este problema."
      ],
      "metadata": {
        "id": "vdpcy1nRPwn6"
      }
    },
    {
      "cell_type": "markdown",
      "source": [
        "**Solución utilizando Programación Dinámica**"
      ],
      "metadata": {
        "id": "2GonNmKHaJVb"
      }
    },
    {
      "cell_type": "code",
      "source": [
        "'''\n",
        "Return: Matriz con valores 0 y la primera fila con valores infinitos\n",
        "Params:\n",
        "  n_filas: valor entero, número de filas\n",
        "  n_columnas: valor entero, número de columnas\n",
        "'''\n",
        "def crear_matriz(n_filas, n_columnas):\n",
        "\n",
        "  #creación de la matriz\n",
        "  m = [[0 for _ in range(n_columnas)] for _ in range(n_filas)]\n",
        "  \n",
        "  #asigna valor de infinito a la primera fila\n",
        "  for j in range(n_columnas):\n",
        "    m[0][j] = float('inf')\n",
        "\n",
        "  return m\n",
        "\n",
        "'''\n",
        "Return: Numero de monedas del cambio\n",
        "Params:\n",
        "  valor_cambio: Valor entero o decimal equivalente al monto que se debe cambiar \n",
        "                por monedas, ejm: 13\n",
        "  sistema_moneda: Lista de enteros o decimales equivalente al valor de las \n",
        "                monedas, ejem: [1,4,8]\n",
        "'''\n",
        "def cambio_moneda2(valor_cambio, sistema_moneda):\n",
        "  n_filas = len(sistema_moneda)+1\n",
        "  n_columnas = valor_cambio +1\n",
        "\n",
        "  #matriz donde se van a guardar todos los valores calculados\n",
        "  matriz = crear_matriz(n_filas, n_columnas)\n",
        "\n",
        "  # lista con valores del 0 hasta n_columnas\n",
        "  vector_valor = [j for j in range(n_columnas)] \n",
        "\n",
        "  for i in range(1, n_filas):\n",
        "    for j in range(1, n_columnas):\n",
        "      #valor de la moneda elegida es mayor al valor de cambio\n",
        "      if sistema_moneda[i-1] > vector_valor[j]:\n",
        "        #se asigna el valor de la fila anterior respecto a la misma columna \n",
        "        matriz[i][j] = matriz[i-1][j]\n",
        "      else:\n",
        "        #se asigna el menor valor entre a y b, siendo:\n",
        "        #a: el valor de la fila anterior respecto a la misma columna\n",
        "        #b: el valor de la fila respecto a la posición de la columna c.\n",
        "        #c: diferencia entre el valor de cambio y el valor de la moneda aumentado en 1\n",
        "        matriz[i][j] = min(matriz[i-1][j], \n",
        "                           matriz[i][vector_valor[j]-sistema_moneda[i-1]]+1)\n",
        "\n",
        "  return f\"Cantidad de monedas de cambio de {valor_cambio} con sistema {sistema_moneda}: {matriz[-1][-1]}\""
      ],
      "metadata": {
        "id": "rwV14QujNe2U"
      },
      "execution_count": null,
      "outputs": []
    },
    {
      "cell_type": "code",
      "source": [
        "print(cambio_moneda2(8, [1,4,6]))\n",
        "print(cambio_moneda2(15, [1,5,11]))"
      ],
      "metadata": {
        "id": "yiq8VUJRLgdV",
        "outputId": "a52221a0-1c21-4589-b41e-c36e0cf7476b",
        "colab": {
          "base_uri": "https://localhost:8080/"
        }
      },
      "execution_count": null,
      "outputs": [
        {
          "output_type": "stream",
          "name": "stdout",
          "text": [
            "Cantidad de monedas de cambio de 8 con sistema [1, 4, 6]: 2\n",
            "Cantidad de monedas de cambio de 15 con sistema [1, 5, 11]: 3\n"
          ]
        }
      ]
    },
    {
      "cell_type": "markdown",
      "source": [
        "# **PROBLEMA 3 | ALGORITMOS DE VUELTA ATRÁS | PROBLEMA DE LAS 4 REINAS**\n",
        "Devolver todas las posiciones posibles de N reinas en un tablero de NxN sin realizar jaque entre ellas"
      ],
      "metadata": {
        "id": "m9W21gIctvrE"
      }
    },
    {
      "cell_type": "code",
      "source": [
        "'''\n",
        "Return: Valor booleano que indica si la posición elegida es válida\n",
        "Params:\n",
        "  solucion: solucion parcial\n",
        "  etapa: numero de reinas colocadas en la solucion parcial\n",
        "'''\n",
        "def es_prometedora(SOLUCION, etapa):\n",
        "\n",
        "  #Si la solución tiene dos valores iguales no es válida\n",
        "  for i in range(etapa+1):\n",
        "    if SOLUCION.count(SOLUCION[i]) > 1: \n",
        "      return False\n",
        "\n",
        "    #valida las diagonales\n",
        "    for j in range(i+1, etapa + 1):\n",
        "      if abs(i-j) == abs(SOLUCION[i] - SOLUCION[j]) : \n",
        "        return False\n",
        "  \n",
        "  return True\n",
        "\n",
        "def escribe_solucion(s):\n",
        "  n = len(s)\n",
        "  for x in range(n):\n",
        "    print(\"\")\n",
        "    for i in range(n):\n",
        "      if s[i] == x+1:\n",
        "        print(\" X \", end='')\n",
        "      else:\n",
        "        print(\" - \", end='')\n",
        "\n",
        "  print('\\n')\n",
        "\n",
        "'''\n",
        "Return: Listas de posibles soluciones\n",
        "Params:\n",
        "  N: Cantidad de reias en el juego\n",
        "  solucion: solución parcial\n",
        "  etapa: Número de reinas colocadas en la solución parcial\n",
        "'''\n",
        "def reinas(N, solucion=[], etapa=0):\n",
        "  \n",
        "  #inicia con una solución de ceros\n",
        "  if len(solucion) == 0:\n",
        "    solucion = [0 for i in range(N)]\n",
        "\n",
        "  for i in range(1, N+1):\n",
        "    solucion[etapa] = i\n",
        "    \n",
        "    if es_prometedora(solucion, etapa):\n",
        "      if etapa == N-1:\n",
        "        print(solucion)\n",
        "      else:\n",
        "        reinas(N, solucion, etapa+1)\n",
        "    else: None\n",
        "  \n",
        "  solucion[etapa] = 0\n",
        "\n",
        "reinas(4, solucion=[], etapa=0)"
      ],
      "metadata": {
        "colab": {
          "base_uri": "https://localhost:8080/"
        },
        "id": "QKWsinNBuNtD",
        "outputId": "9a286f22-3978-4c7a-857d-f5eccfcb6cee"
      },
      "execution_count": 38,
      "outputs": [
        {
          "output_type": "stream",
          "name": "stdout",
          "text": [
            "[2, 4, 1, 3]\n",
            "[3, 1, 4, 2]\n"
          ]
        }
      ]
    },
    {
      "cell_type": "code",
      "source": [
        "escribe_solucion([2, 4, 1, 3])\n",
        "escribe_solucion([3, 1, 4, 2])"
      ],
      "metadata": {
        "colab": {
          "base_uri": "https://localhost:8080/"
        },
        "id": "cb3O_RLL3C3f",
        "outputId": "28422458-c2d8-4dee-e955-dc238207981e"
      },
      "execution_count": 39,
      "outputs": [
        {
          "output_type": "stream",
          "name": "stdout",
          "text": [
            "\n",
            " -  -  X  - \n",
            " X  -  -  - \n",
            " -  -  -  X \n",
            " -  X  -  - \n",
            "\n",
            "\n",
            " -  X  -  - \n",
            " -  -  -  X \n",
            " X  -  -  - \n",
            " -  -  X  - \n",
            "\n"
          ]
        }
      ]
    },
    {
      "cell_type": "markdown",
      "source": [
        "# **PROBLEMA 4 | PROGRAMACIÓN DINÁMICA | VIAJE POR EL RÍO**\n",
        "Devolver la menor tarifa para ir del punto A al punto B"
      ],
      "metadata": {
        "id": "b92B3Mg7QsKl"
      }
    },
    {
      "cell_type": "code",
      "source": [
        "'''\n",
        "Return: Dos listas de precio y ruta\n",
        "Params: \n",
        "  tarifa: matriz de precios entre nodo y nodo\n",
        "'''\n",
        "def precios(tarifas):\n",
        "  #Total de nodos\n",
        "  n = len(tarifas[0])\n",
        "\n",
        "  #creación de la tabla de precios\n",
        "  precios = [[float('inf')]*n for i in [float('inf')]*n]\n",
        "  ruta = [['']*n for i in ['']*n]\n",
        "\n",
        "  #recorre hasta la penultima fila porque los nodos no son bidireccional\n",
        "  for i in range(n-1): \n",
        "    #empieza de i+1 porque los nodos no son cíclicos\n",
        "    for j in range(i+1, n):\n",
        "      precio_min = tarifas[i][j]\n",
        "      ruta[i][j] = i\n",
        "\n",
        "      #calcula el menor precio hasta el nodo j\n",
        "      for k in range(i,j):\n",
        "        if precios[i][k] + tarifas[k][j] < precio_min:\n",
        "          precio_min = min(precio_min, precios[i][k] + tarifas[k][j])\n",
        "          ruta[i][j] = k\n",
        "        precios[i][j] = precio_min\n",
        "\n",
        "  return precios, ruta\n",
        "\n",
        "def calcular_ruta(ruta, desde, hasta):\n",
        "  if desde == hasta:\n",
        "    return desde\n",
        "  else:\n",
        "    return str(calcular_ruta(ruta, desde, ruta[desde][hasta])) + ',' + str(ruta[desde][hasta])\n",
        "\n",
        "\n",
        "def calcular_ruta2(m_ruta, desde, hasta):\n",
        "\n",
        "  ruta = [hasta]\n",
        "  while desde != hasta:\n",
        "    nodo_ant = m_ruta[desde][hasta]\n",
        "    ruta.insert(0, nodo_ant)\n",
        "    hasta = nodo_ant\n",
        "\n",
        "  return ','.join(map(str, ruta))"
      ],
      "metadata": {
        "id": "nNFZvZIblC_q"
      },
      "execution_count": 59,
      "outputs": []
    },
    {
      "cell_type": "code",
      "source": [
        "tarifas = [\n",
        "    [0,5,4,3,float('inf'),float('inf'),float('inf')],\n",
        "    [float('inf'),0,float('inf'),2,3,float('inf'),11],\n",
        "    [float('inf'),float('inf'),0,1,float('inf'),4,10],\n",
        "    [float('inf'),float('inf'),float('inf'),0,5,6,9],\n",
        "    [float('inf'),float('inf'),float('inf'),float('inf'),0,float('inf'),4],\n",
        "    [float('inf'),float('inf'),float('inf'),float('inf'),float('inf'),float('inf'),0]\n",
        "]\n",
        "\n",
        "precios, ruta = precios(tarifas)\n",
        "print(f'La ruta de menor costo es: {calcular_ruta2(ruta, 0, 6)}')"
      ],
      "metadata": {
        "id": "f6FnaVEfhoCV",
        "outputId": "2f3c2b4f-1647-4526-9f17-be7ee6fc706b",
        "colab": {
          "base_uri": "https://localhost:8080/"
        }
      },
      "execution_count": 60,
      "outputs": [
        {
          "output_type": "stream",
          "name": "stdout",
          "text": [
            "La ruta de menor costo es: 0,2,5,6\n"
          ]
        }
      ]
    },
    {
      "cell_type": "markdown",
      "source": [
        "# **PROBLEMA 5 | PUNTOS MÁS CERCANOS**\n",
        "Devolver el par de puntos más cercanos de una lista"
      ],
      "metadata": {
        "id": "dhZHIRGv6S2C"
      }
    },
    {
      "cell_type": "code",
      "source": [
        "##ALGORITMO DE FUERZA BRUTA\n",
        "\n",
        "import random\n",
        "\n",
        "'''\n",
        "Return: Par de números más cercanos\n",
        "params: Lista de números a evaluar\n",
        "'''\n",
        "def puntos_cercanos_fb(puntos):\n",
        "  tamanoLista = len(puntos)\n",
        "  disMin = float(\"inf\")\n",
        "  p1 = 0\n",
        "  p2 = 0\n",
        "\n",
        "  for i in range(tamanoLista):\n",
        "    for j in range(i+1, tamanoLista):\n",
        "      dis = abs(puntos[i] - puntos[j])\n",
        "\n",
        "      if dis < disMin:\n",
        "        disMin = dis\n",
        "        p1 = puntos[i]\n",
        "        p2 = puntos[j]\n",
        "\n",
        "  return p1, p2\n",
        "\n",
        "lista_1d = random.sample(range(0,10000),10)\n",
        "puntos_cercanos_fb(lista_1d)\n"
      ],
      "metadata": {
        "id": "xioxCott8YYi",
        "outputId": "fd858922-d435-4b64-aff0-f389fe449417",
        "colab": {
          "base_uri": "https://localhost:8080/"
        }
      },
      "execution_count": 52,
      "outputs": [
        {
          "output_type": "execute_result",
          "data": {
            "text/plain": [
              "(5836, 5610)"
            ]
          },
          "metadata": {},
          "execution_count": 52
        }
      ]
    },
    {
      "cell_type": "code",
      "source": [
        "## ALGORITMO DE DIVIDE Y VENCERÁS\n",
        "import random\n",
        "\n",
        "lista_2d = [(random.randrange(1, 20), random.randrange(1, 20)) for _ in range(11)]\n",
        "\n",
        "def ordenar_por_eje_x(puntos_2d):\n",
        "  for _ in range(1, len(puntos_2d)):\n",
        "    for i in range(0, len(puntos_2d)-1):\n",
        "      if puntos_2d[i][0] > puntos_2d[i+1][0]:\n",
        "          aux = puntos_2d[i+1]\n",
        "          puntos_2d[i+1] = puntos_2d[i]\n",
        "          puntos_2d[i] = aux\n",
        "          \n",
        "  return puntos_2d\n",
        "\n",
        "print(lista_2d)\n",
        "puntos = ordenar_por_eje_x(lista_2d)\n",
        "print(puntos)"
      ],
      "metadata": {
        "id": "1SWBoUzODJqi",
        "outputId": "187687e8-1473-4862-b957-baa2ffb8867d",
        "colab": {
          "base_uri": "https://localhost:8080/"
        }
      },
      "execution_count": 57,
      "outputs": [
        {
          "output_type": "stream",
          "name": "stdout",
          "text": [
            "[(16, 4), (19, 9), (8, 17), (17, 15), (14, 3), (3, 7), (7, 2), (13, 11), (13, 17), (7, 14), (12, 10)]\n",
            "[(3, 7), (7, 2), (7, 14), (8, 17), (12, 10), (13, 11), (13, 17), (14, 3), (16, 4), (17, 15), (19, 9)]\n"
          ]
        }
      ]
    },
    {
      "cell_type": "code",
      "source": [
        "import math\n",
        "def distancia_euclidiana(punto_1, punto_2):\n",
        "  return math.sqrt(math.pow(punto_2[0]-punto_1[0], 2) + math.pow(punto_2[1] - punto_1[1], 2))\n",
        "\n",
        "distancia_euclidiana((4,0), (0,3))\n",
        "\n",
        "def minima_distancia(list_puntos):\n",
        "  \n",
        "  dis_2 = distancia_euclidiana(list_puntos[0], list_puntos[2]) if len(list_puntos) == 3 else float('inf')\n",
        "  dis_3 = distancia_euclidiana(list_puntos[1], list_puntos[2]) if len(list_puntos) == 3 else float('inf')\n",
        "  return min(\n",
        "      distancia_euclidiana(list_puntos[0], list_puntos[1]),\n",
        "      dis_2,\n",
        "      dis_3\n",
        "  )\n",
        "\n",
        "minima_distancia([(4,0), (0,3), (0,4)])"
      ],
      "metadata": {
        "id": "DLgbMYMixJgu",
        "outputId": "aabe6167-a0c9-4b3e-e8c2-b645c5ba0ca7",
        "colab": {
          "base_uri": "https://localhost:8080/"
        }
      },
      "execution_count": 52,
      "outputs": [
        {
          "output_type": "execute_result",
          "data": {
            "text/plain": [
              "1.0"
            ]
          },
          "metadata": {},
          "execution_count": 52
        }
      ]
    },
    {
      "cell_type": "code",
      "source": [
        "#def puntos más cercanos\n",
        "\n",
        "def puntos_mas_cercanos(list_puntos):\n",
        "  ctd_puntos = len(list_puntos)\n",
        "  if ctd_puntos <= 3:\n",
        "    min_distancia = minima_distancia(list_puntos)\n",
        "    print(list_puntos)\n",
        "    print(min_distancia)\n",
        "  else:\n",
        "    media_ctd_puntos = int(ctd_puntos/2)\n",
        "    min_distancia_izq = puntos_mas_cercanos(list_puntos[:media_ctd_puntos])\n",
        "    min_distancia_der = puntos_mas_cercanos(list_puntos[media_ctd_puntos:])\n",
        "    min_distancia = min(min_distancia_izq, min_distancia_der)\n",
        "\n",
        "  return min_distancia\n",
        "\n",
        "print(puntos)\n",
        "print(puntos_mas_cercanos(puntos))"
      ],
      "metadata": {
        "id": "ea7KBY3uvGXg",
        "outputId": "eeed0428-fa94-4159-ccbc-a79e7d028386",
        "colab": {
          "base_uri": "https://localhost:8080/"
        }
      },
      "execution_count": 58,
      "outputs": [
        {
          "output_type": "stream",
          "name": "stdout",
          "text": [
            "[(3, 7), (7, 2), (7, 14), (8, 17), (12, 10), (13, 11), (13, 17), (14, 3), (16, 4), (17, 15), (19, 9)]\n",
            "[(3, 7), (7, 2)]\n",
            "6.4031242374328485\n",
            "[(7, 14), (8, 17), (12, 10)]\n",
            "3.1622776601683795\n",
            "[(13, 11), (13, 17), (14, 3)]\n",
            "6.0\n",
            "[(16, 4), (17, 15), (19, 9)]\n",
            "5.830951894845301\n",
            "3.1622776601683795\n"
          ]
        }
      ]
    }
  ]
}