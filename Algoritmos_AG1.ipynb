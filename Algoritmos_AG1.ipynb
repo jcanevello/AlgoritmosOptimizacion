{
  "nbformat": 4,
  "nbformat_minor": 0,
  "metadata": {
    "colab": {
      "provenance": []
    },
    "kernelspec": {
      "name": "python3",
      "display_name": "Python 3"
    },
    "language_info": {
      "name": "python"
    }
  },
  "cells": [
    {
      "cell_type": "markdown",
      "source": [
        "Nombre: Jean Canevello <br>\n",
        "https://colab.research.google.com/drive/1KdGsTbI3pbVcxlExfabt7rZqMVuIyGcy?authuser=1#scrollTo=rTiqLuX2ZKuL <br>\n",
        "https://github.com/jcanevello/AlgoritmosOptimizacion/blob/master/Algoritmos_AG1.ipynb\n",
        "\n"
      ],
      "metadata": {
        "id": "Ghr_55MLQyZQ"
      }
    },
    {
      "cell_type": "code",
      "source": [
        ".#@title Divide y vencerás | Problema: Torres de Hanoy\n",
        "\n",
        "def torres_hanoy(N, desde, hasta):\n",
        "  if N == 1:\n",
        "    print(\"N:\", N)\n",
        "    print(\"*Llevar desde :\", str(desde), \" hasta \", str(hasta))\n",
        "  else:\n",
        "    print(\"N:\", N-1)\n",
        "    torres_hanoy(N-1, desde, 6-desde-hasta)\n",
        "    print(\"Llevar desde :\", str(desde), \" hasta \", str(hasta))\n",
        "    print(\"N:\", N-1)\n",
        "    torres_hanoy(N-1, 6-desde-hasta, desde)\n",
        "\n",
        "torres_hanoy(3, 1, 3)"
      ],
      "metadata": {
        "id": "0OGAiVqIRT3E",
        "colab": {
          "base_uri": "https://localhost:8080/"
        },
        "outputId": "cdb662cf-0bb5-493c-8070-ef53baa159f8"
      },
      "execution_count": null,
      "outputs": [
        {
          "output_type": "stream",
          "name": "stdout",
          "text": [
            "N: 2\n",
            "N: 1\n",
            "N: 1\n",
            "*Llevar desde : 1  hasta  3\n",
            "Llevar desde : 1  hasta  2\n",
            "N: 1\n",
            "N: 1\n",
            "*Llevar desde : 3  hasta  1\n",
            "Llevar desde : 1  hasta  3\n",
            "N: 2\n",
            "N: 1\n",
            "N: 1\n",
            "*Llevar desde : 2  hasta  3\n",
            "Llevar desde : 2  hasta  1\n",
            "N: 1\n",
            "N: 1\n",
            "*Llevar desde : 3  hasta  2\n"
          ]
        }
      ]
    },
    {
      "cell_type": "markdown",
      "source": [
        "# **PROBLEMA 2 | ALGORITMOS VORACES | CAMBIO DE MONEDA**\n",
        "Devolver la menor cantidad de monedas de un valor utilizando el sistema de monedas definido para el problema"
      ],
      "metadata": {
        "id": "d8NxwoNLoD34"
      }
    },
    {
      "cell_type": "markdown",
      "source": [
        "**Solución utilizando algoritmos voraces**"
      ],
      "metadata": {
        "id": "_evt7bZYZ9UN"
      }
    },
    {
      "cell_type": "code",
      "source": [
        "'''\n",
        "Return: Numero de monedas del cambio\n",
        "Params:\n",
        "  valor: Valor entero o decimal equivalente al monto que se debe cambiar \n",
        "                por monedas, ejm: 13\n",
        "  sistema: Lista de enteros o decimales equivalente al valor de las \n",
        "                monedas, ejem: [1,4,8]\n",
        "'''\n",
        "def cambio_moneda(valor, sistema):\n",
        "  val_init = valor\n",
        "  solucion = {}\n",
        "  for moneda in sorted(sistema, reverse=True):\n",
        "    #calcula el cociente de la división entre el monto y el valor de la moneda\n",
        "    nro_moneda = valor // moneda\n",
        "    solucion[moneda] = nro_moneda\n",
        "    if nro_moneda > 0:\n",
        "      valor -= nro_moneda*moneda\n",
        "\n",
        "  return f'valor:{val_init}, sistema de moneda:{sistema}'"
      ],
      "metadata": {
        "id": "LRfx5t_0gnJT"
      },
      "execution_count": null,
      "outputs": []
    },
    {
      "cell_type": "code",
      "source": [
        "print(cambio_moneda(15, [11,5,1]))\n",
        "print(cambio_moneda(8, [1,4,6]))"
      ],
      "metadata": {
        "colab": {
          "base_uri": "https://localhost:8080/"
        },
        "id": "h8oUt0CIsVd6",
        "outputId": "697b147a-d29d-424b-8e37-65e45830fe2b"
      },
      "execution_count": null,
      "outputs": [
        {
          "output_type": "stream",
          "name": "stdout",
          "text": [
            "valor:15, sistema de moneda:[11, 5, 1]\n",
            "valor:8, sistema de moneda:[1, 4, 6]\n"
          ]
        }
      ]
    },
    {
      "cell_type": "markdown",
      "source": [
        "El algoritmo Voráz no es una solución eficiente para el problema de cambio de moneda ya que solo funciona bien para casos limitados, por ejemplo para el caso donde se busca cambiar un valor de 8 con monedas 1, 4 y 6 da como resultado 3 monedas(1 moneda de 6 y dos de 1), sin embargo; existe una solución más optima utilizando dos monedas de 4.\n",
        "\n",
        "Para obtener los resultados óptimos utilizaremos Programación Dinámica para este problema."
      ],
      "metadata": {
        "id": "vdpcy1nRPwn6"
      }
    },
    {
      "cell_type": "markdown",
      "source": [
        "**Solución utilizando Programación Dinámica**"
      ],
      "metadata": {
        "id": "2GonNmKHaJVb"
      }
    },
    {
      "cell_type": "code",
      "source": [
        "'''\n",
        "Return: Matriz con valores 0 y la primera fila con valores infinitos\n",
        "Params:\n",
        "  n_filas: valor entero, número de filas\n",
        "  n_columnas: valor entero, número de columnas\n",
        "'''\n",
        "def crear_matriz(n_filas, n_columnas):\n",
        "\n",
        "  #creación de la matriz\n",
        "  m = [[0 for _ in range(n_columnas)] for _ in range(n_filas)]\n",
        "  \n",
        "  #asigna valor de infinito a la primera fila\n",
        "  for j in range(n_columnas):\n",
        "    m[0][j] = float('inf')\n",
        "\n",
        "  return m\n",
        "\n",
        "'''\n",
        "Return: Numero de monedas del cambio\n",
        "Params:\n",
        "  valor_cambio: Valor entero o decimal equivalente al monto que se debe cambiar \n",
        "                por monedas, ejm: 13\n",
        "  sistema_moneda: Lista de enteros o decimales equivalente al valor de las \n",
        "                monedas, ejem: [1,4,8]\n",
        "'''\n",
        "def cambio_moneda2(valor_cambio, sistema_moneda):\n",
        "  n_filas = len(sistema_moneda)+1\n",
        "  n_columnas = valor_cambio +1\n",
        "\n",
        "  #matriz donde se van a guardar todos los valores calculados\n",
        "  matriz = crear_matriz(n_filas, n_columnas)\n",
        "\n",
        "  # lista con valores del 0 hasta n_columnas\n",
        "  vector_valor = [j for j in range(n_columnas)] \n",
        "\n",
        "  for i in range(1, n_filas):\n",
        "    for j in range(1, n_columnas):\n",
        "      #valor de la moneda elegida es mayor al valor de cambio\n",
        "      if sistema_moneda[i-1] > vector_valor[j]:\n",
        "        #se asigna el valor de la fila anterior respecto a la misma columna \n",
        "        matriz[i][j] = matriz[i-1][j]\n",
        "      else:\n",
        "        #se asigna el menor valor entre a y b, siendo:\n",
        "        #a: el valor de la fila anterior respecto a la misma columna\n",
        "        #b: el valor de la fila respecto a la posición de la columna c.\n",
        "        #c: diferencia entre el valor de cambio y el valor de la moneda aumentado en 1\n",
        "        matriz[i][j] = min(matriz[i-1][j], \n",
        "                           matriz[i][vector_valor[j]-sistema_moneda[i-1]]+1)\n",
        "\n",
        "  return f\"Cantidad de monedas de cambio de {valor_cambio} con sistema {sistema_moneda}: {matriz[-1][-1]}\""
      ],
      "metadata": {
        "id": "rwV14QujNe2U"
      },
      "execution_count": null,
      "outputs": []
    },
    {
      "cell_type": "code",
      "source": [
        "print(cambio_moneda2(8, [1,4,6]))\n",
        "print(cambio_moneda2(15, [1,5,11]))"
      ],
      "metadata": {
        "id": "yiq8VUJRLgdV",
        "outputId": "a52221a0-1c21-4589-b41e-c36e0cf7476b",
        "colab": {
          "base_uri": "https://localhost:8080/"
        }
      },
      "execution_count": null,
      "outputs": [
        {
          "output_type": "stream",
          "name": "stdout",
          "text": [
            "Cantidad de monedas de cambio de 8 con sistema [1, 4, 6]: 2\n",
            "Cantidad de monedas de cambio de 15 con sistema [1, 5, 11]: 3\n"
          ]
        }
      ]
    },
    {
      "cell_type": "markdown",
      "source": [
        "# **PROBLEMA 4 | PROGRAMACIÓN DINÁMICA | VIAJE POR EL RÍO**\n",
        "Devolver la menor tarifa para ir del punto A al punto B"
      ],
      "metadata": {
        "id": "b92B3Mg7QsKl"
      }
    },
    {
      "cell_type": "code",
      "source": [
        "def precios(tarifas):\n",
        "  #Total de nodos\n",
        "  n = len(tarifas[0])\n",
        "\n",
        "  #creación de la tabla de precios\n",
        "  precios = [[float('inf')]*n for i in [float('inf')]*n]\n",
        "  ruta = [['']*n for i in ['']*n]\n",
        "\n",
        "  #recorre hasta la penultima fila porque los nodos no son bidireccional\n",
        "  for i in range(n-1): \n",
        "    #empieza de i+1 porque los nodos no son cíclicos\n",
        "    for j in range(i+1, n):\n",
        "      precio_min = tarifas[i][j]\n",
        "      ruta[i][j] = i\n",
        "\n",
        "      #calcula el menor precio hasta el nodo j\n",
        "      for k in range(i,j):\n",
        "        if precios[i][k] + tarifas[k][j] < precio_min:\n",
        "          precio_min = min(precio_min, precios[i][k] + tarifas[k][j])\n",
        "          ruta[i][j] = k\n",
        "        precios[i][j] = precio_min\n",
        "\n",
        "  return precios, ruta\n",
        "\n",
        "def calcular_ruta(ruta, desde, hasta):\n",
        "  if desde == hasta:\n",
        "    return desde\n",
        "  else:\n",
        "    return str(calcular_ruta(ruta, desde, ruta[desde][hasta])) + ',' + str(ruta[desde][hasta])"
      ],
      "metadata": {
        "id": "nNFZvZIblC_q"
      },
      "execution_count": null,
      "outputs": []
    },
    {
      "cell_type": "code",
      "source": [
        "tarifas = [\n",
        "    [0,5,4,3,float('inf'),float('inf'),float('inf')],\n",
        "    [float('inf'),0,float('inf'),2,3,float('inf'),11],\n",
        "    [float('inf'),float('inf'),0,1,float('inf'),4,10],\n",
        "    [float('inf'),float('inf'),float('inf'),0,5,6,9],\n",
        "    [float('inf'),float('inf'),float('inf'),float('inf'),0,float('inf'),4],\n",
        "    [float('inf'),float('inf'),float('inf'),float('inf'),float('inf'),float('inf'),0]\n",
        "]\n",
        "\n",
        "precios, ruta = precios(tarifas)\n",
        "calcular_ruta(ruta, 0, 6)"
      ],
      "metadata": {
        "id": "f6FnaVEfhoCV",
        "outputId": "7a01ffe9-0718-4f32-fa86-d26ee7330a37",
        "colab": {
          "base_uri": "https://localhost:8080/",
          "height": 36
        }
      },
      "execution_count": null,
      "outputs": [
        {
          "output_type": "execute_result",
          "data": {
            "text/plain": [
              "'0,0,2,5'"
            ],
            "application/vnd.google.colaboratory.intrinsic+json": {
              "type": "string"
            }
          },
          "metadata": {},
          "execution_count": 47
        }
      ]
    },
    {
      "cell_type": "code",
      "source": [
        "ruta"
      ],
      "metadata": {
        "id": "uVmkgwril_IA",
        "outputId": "cfb9a594-1a27-40ad-8639-3e390d266b01",
        "colab": {
          "base_uri": "https://localhost:8080/"
        }
      },
      "execution_count": null,
      "outputs": [
        {
          "output_type": "execute_result",
          "data": {
            "text/plain": [
              "[['', 0, 0, 0, 1, 2, 5],\n",
              " ['', '', 1, 1, 1, 3, 4],\n",
              " ['', '', '', 2, 3, 2, 5],\n",
              " ['', '', '', '', 3, 3, 5],\n",
              " ['', '', '', '', '', 4, 4],\n",
              " ['', '', '', '', '', '', 5],\n",
              " ['', '', '', '', '', '', '']]"
            ]
          },
          "metadata": {},
          "execution_count": 48
        }
      ]
    },
    {
      "cell_type": "code",
      "source": [
        "precios"
      ],
      "metadata": {
        "id": "fvgbLy7cmMZ3",
        "outputId": "cb8df455-4950-429d-e03b-99feae3d263f",
        "colab": {
          "base_uri": "https://localhost:8080/"
        }
      },
      "execution_count": null,
      "outputs": [
        {
          "output_type": "execute_result",
          "data": {
            "text/plain": [
              "[[inf, 5, 4, 3, 8, 8, 8],\n",
              " [inf, inf, inf, 2, 3, 8, 7],\n",
              " [inf, inf, inf, 1, 6, 4, 4],\n",
              " [inf, inf, inf, inf, 5, 6, 6],\n",
              " [inf, inf, inf, inf, inf, inf, 4],\n",
              " [inf, inf, inf, inf, inf, inf, 0],\n",
              " [inf, inf, inf, inf, inf, inf, inf]]"
            ]
          },
          "metadata": {},
          "execution_count": 49
        }
      ]
    }
  ]
}