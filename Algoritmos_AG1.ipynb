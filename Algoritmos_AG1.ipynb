{
  "nbformat": 4,
  "nbformat_minor": 0,
  "metadata": {
    "colab": {
      "provenance": [],
      "authorship_tag": "ABX9TyMjn9s1aRXtPGVFxNXCoNHw",
      "include_colab_link": true
    },
    "kernelspec": {
      "name": "python3",
      "display_name": "Python 3"
    },
    "language_info": {
      "name": "python"
    }
  },
  "cells": [
    {
      "cell_type": "markdown",
      "metadata": {
        "id": "view-in-github",
        "colab_type": "text"
      },
      "source": [
        "<a href=\"https://colab.research.google.com/github/jcanevello/AlgoritmosOptimizacion/blob/main/Algoritmos_AG1.ipynb\" target=\"_parent\"><img src=\"https://colab.research.google.com/assets/colab-badge.svg\" alt=\"Open In Colab\"/></a>"
      ]
    },
    {
      "cell_type": "markdown",
      "source": [
        "Nombre: Jean Canevello <br>\n",
        "https://colab.research.google.com/drive/1KdGsTbI3pbVcxlExfabt7rZqMVuIyGcy?authuser=1#scrollTo=rTiqLuX2ZKuL <br>\n",
        "https://github.com/jcanevello/AlgoritmosOptimizacion/blob/master/Algoritmos_AG1.ipynb\n",
        "\n"
      ],
      "metadata": {
        "id": "Ghr_55MLQyZQ"
      }
    },
    {
      "cell_type": "code",
      "source": [
        "#@title Divide y vencerás | Problema: Torres de Hanoy\n"
      ],
      "metadata": {
        "id": "0OGAiVqIRT3E"
      },
      "execution_count": 4,
      "outputs": []
    },
    {
      "cell_type": "code",
      "execution_count": 8,
      "metadata": {
        "colab": {
          "base_uri": "https://localhost:8080/"
        },
        "id": "gzyTdBnzQG2b",
        "outputId": "8d399d29-a913-4634-a75b-20e799811281"
      },
      "outputs": [
        {
          "output_type": "stream",
          "name": "stdout",
          "text": [
            "N: 2\n",
            "N: 1\n",
            "N: 1\n",
            "*Llevar desde : 1  hasta  3\n",
            "Llevar desde : 1  hasta  2\n",
            "N: 1\n",
            "N: 1\n",
            "*Llevar desde : 3  hasta  1\n",
            "Llevar desde : 1  hasta  3\n",
            "N: 2\n",
            "N: 1\n",
            "N: 1\n",
            "*Llevar desde : 2  hasta  3\n",
            "Llevar desde : 2  hasta  1\n",
            "N: 1\n",
            "N: 1\n",
            "*Llevar desde : 3  hasta  2\n"
          ]
        }
      ],
      "source": [
        "def torres_hanoy(N, desde, hasta):\n",
        "  if N == 1:\n",
        "    print(\"N:\", N)\n",
        "    print(\"*Llevar desde :\", str(desde), \" hasta \", str(hasta))\n",
        "  else:\n",
        "    print(\"N:\", N-1)\n",
        "    torres_hanoy(N-1, desde, 6-desde-hasta)\n",
        "    print(\"Llevar desde :\", str(desde), \" hasta \", str(hasta))\n",
        "    print(\"N:\", N-1)\n",
        "    torres_hanoy(N-1, 6-desde-hasta, desde)\n",
        "\n",
        "torres_hanoy(3, 1, 3)"
      ]
    },
    {
      "cell_type": "code",
      "source": [
        "#@title Algoritmos Voraces | Problema: Cambio de moneda\n",
        "\n",
        "def cambio_moneda(valor, sistema):\n",
        "  solucion = {}\n",
        "  for moneda in sorted(sistema, reverse=True):\n",
        "    nro_moneda = valor // moneda\n",
        "    solucion[moneda] = nro_moneda\n",
        "    if nro_moneda > 0:\n",
        "      valor -= nro_moneda*moneda\n",
        "\n",
        "  return solucion\n",
        "\n",
        "cambio_moneda(180, [2,5,10,20,50])"
      ],
      "metadata": {
        "colab": {
          "base_uri": "https://localhost:8080/"
        },
        "id": "LRfx5t_0gnJT",
        "outputId": "95569420-2bbd-48c0-b0a9-7ee10311e2cf"
      },
      "execution_count": 31,
      "outputs": [
        {
          "output_type": "execute_result",
          "data": {
            "text/plain": [
              "{50: 3, 20: 1, 10: 1, 5: 0, 2: 0}"
            ]
          },
          "metadata": {},
          "execution_count": 31
        }
      ]
    },
    {
      "cell_type": "code",
      "source": [
        "a = [10,5,20]\n",
        "print(sorted(a, reverse=True))"
      ],
      "metadata": {
        "colab": {
          "base_uri": "https://localhost:8080/"
        },
        "id": "-Ts5ydyfloth",
        "outputId": "6b646ccd-8122-4900-f9cd-f3f2bc6ecb34"
      },
      "execution_count": 26,
      "outputs": [
        {
          "output_type": "stream",
          "name": "stdout",
          "text": [
            "[20, 10, 5]\n"
          ]
        }
      ]
    },
    {
      "cell_type": "markdown",
      "source": [],
      "metadata": {
        "id": "b92B3Mg7QsKl"
      }
    }
  ]
}