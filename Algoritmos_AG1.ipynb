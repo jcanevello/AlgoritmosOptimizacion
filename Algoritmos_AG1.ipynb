{
  "nbformat": 4,
  "nbformat_minor": 0,
  "metadata": {
    "colab": {
      "provenance": [],
      "authorship_tag": "ABX9TyM0p1InrDuFN8d10mD0BSLG",
      "include_colab_link": true
    },
    "kernelspec": {
      "name": "python3",
      "display_name": "Python 3"
    },
    "language_info": {
      "name": "python"
    }
  },
  "cells": [
    {
      "cell_type": "markdown",
      "metadata": {
        "id": "view-in-github",
        "colab_type": "text"
      },
      "source": [
        "<a href=\"https://colab.research.google.com/github/jcanevello/AlgoritmosOptimizacion/blob/main/Algoritmos_AG1.ipynb\" target=\"_parent\"><img src=\"https://colab.research.google.com/assets/colab-badge.svg\" alt=\"Open In Colab\"/></a>"
      ]
    },
    {
      "cell_type": "markdown",
      "source": [
        "Nombre: Jean Canevello <br>\n",
        "https://colab.research.google.com/drive/1KdGsTbI3pbVcxlExfabt7rZqMVuIyGcy?authuser=1#scrollTo=rTiqLuX2ZKuL <br>\n",
        "https://github.com/jcanevello/AlgoritmosOptimizacion/blob/master/Algoritmos_AG1.ipynb\n",
        "\n"
      ],
      "metadata": {
        "id": "Ghr_55MLQyZQ"
      }
    },
    {
      "cell_type": "code",
      "source": [
        ".#@title Divide y vencerás | Problema: Torres de Hanoy\n",
        "\n",
        "def torres_hanoy(N, desde, hasta):\n",
        "  if N == 1:\n",
        "    print(\"N:\", N)\n",
        "    print(\"*Llevar desde :\", str(desde), \" hasta \", str(hasta))\n",
        "  else:\n",
        "    print(\"N:\", N-1)\n",
        "    torres_hanoy(N-1, desde, 6-desde-hasta)\n",
        "    print(\"Llevar desde :\", str(desde), \" hasta \", str(hasta))\n",
        "    print(\"N:\", N-1)\n",
        "    torres_hanoy(N-1, 6-desde-hasta, desde)\n",
        "\n",
        "torres_hanoy(3, 1, 3)"
      ],
      "metadata": {
        "id": "0OGAiVqIRT3E",
        "colab": {
          "base_uri": "https://localhost:8080/"
        },
        "outputId": "cdb662cf-0bb5-493c-8070-ef53baa159f8"
      },
      "execution_count": null,
      "outputs": [
        {
          "output_type": "stream",
          "name": "stdout",
          "text": [
            "N: 2\n",
            "N: 1\n",
            "N: 1\n",
            "*Llevar desde : 1  hasta  3\n",
            "Llevar desde : 1  hasta  2\n",
            "N: 1\n",
            "N: 1\n",
            "*Llevar desde : 3  hasta  1\n",
            "Llevar desde : 1  hasta  3\n",
            "N: 2\n",
            "N: 1\n",
            "N: 1\n",
            "*Llevar desde : 2  hasta  3\n",
            "Llevar desde : 2  hasta  1\n",
            "N: 1\n",
            "N: 1\n",
            "*Llevar desde : 3  hasta  2\n"
          ]
        }
      ]
    },
    {
      "cell_type": "markdown",
      "source": [
        "# **PROBLEMA 2 | ALGORITMOS VORACES | CAMBIO DE MONEDA**\n",
        "Devolver la menor cantidad de monedas de un valor utilizando el sistema de monedas definido para el problema"
      ],
      "metadata": {
        "id": "d8NxwoNLoD34"
      }
    },
    {
      "cell_type": "code",
      "source": [
        "#@title Solución utilizando algoritmos voraces\n",
        "\n",
        "def cambio_moneda(valor, sistema):\n",
        "  val_init = valor\n",
        "  solucion = {}\n",
        "  for moneda in sorted(sistema, reverse=True):\n",
        "    nro_moneda = valor // moneda\n",
        "    solucion[moneda] = nro_moneda\n",
        "    if nro_moneda > 0:\n",
        "      valor -= nro_moneda*moneda\n",
        "\n",
        "  comentario = 'Solución exacta' if valor == 0 else 'No tiene solución exacta'\n",
        "\n",
        "  return print(f'valor:{val_init}, sistema de moneda:{sistema}, solucion:{solucion}, {comentario}')"
      ],
      "metadata": {
        "id": "LRfx5t_0gnJT"
      },
      "execution_count": 14,
      "outputs": []
    },
    {
      "cell_type": "code",
      "source": [
        "cambio_moneda(180, [2,5,10,20,50])\n",
        "cambio_moneda(15, [11,5,1])\n",
        "cambio_moneda(8, [1,4,6])"
      ],
      "metadata": {
        "id": "h8oUt0CIsVd6",
        "outputId": "a5fac443-1974-4f8f-f285-cc716f65902a",
        "colab": {
          "base_uri": "https://localhost:8080/"
        }
      },
      "execution_count": 17,
      "outputs": [
        {
          "output_type": "stream",
          "name": "stdout",
          "text": [
            "valor:180, sistema de moneda:[2, 5, 10, 20, 50], solucion:{50: 3, 20: 1, 10: 1, 5: 0, 2: 0}, Solución exacta\n",
            "valor:15, sistema de moneda:[11, 5, 1], solucion:{11: 1, 5: 0, 1: 4}, Solución exacta\n",
            "valor:8, sistema de moneda:[1, 4, 6], solucion:{6: 1, 4: 0, 1: 2}, Solución exacta\n"
          ]
        }
      ]
    },
    {
      "cell_type": "markdown",
      "source": [
        "El algoritmo Voráz no es una solución eficiente para el problema de cambio de moneda ya que solo funciona bien para casos limitados, por ejemplo para el caso donde se busca cambiar un valor de 8 con monedas 1, 4 y 6 da como resultado 3 monedas(1 moneda de 6 y dos de 1), sin embargo; existe una solución más optima utilizando dos monedas de 4.\n",
        "\n",
        "Para obtener los resultados óptimos utilizaremos Programación Dinámica para este problema."
      ],
      "metadata": {
        "id": "vdpcy1nRPwn6"
      }
    },
    {
      "cell_type": "code",
      "source": [
        "#@title Solución utilizando Programación Dinámica\n",
        "def crear_matriz(n_filas, n_columnas):\n",
        "  m = [[0 for _ in range(n_columnas)] for _ in range(n_filas)]\n",
        "  \n",
        "  for j in range(n_columnas):\n",
        "    m[0][j] = float('inf')\n",
        "\n",
        "  return m\n",
        "\n",
        "def cambio_moneda2(valor_cambio, sistema_moneda):\n",
        "  n_filas = len(sistema_moneda)+1\n",
        "  n_columnas = valor_cambio +1\n",
        "  matriz = crear_matriz(n_filas, n_columnas)\n",
        "  vector_valor = [j for j in range(n_columnas)]\n",
        "\n",
        "  for i in range(1, n_filas):\n",
        "    for j in range(1, n_columnas):\n",
        "      if sistema_moneda[i-1] > vector_valor[j]:\n",
        "        matriz[i][j] = matriz[i-1][j]\n",
        "      else:\n",
        "        matriz[i][j] = min(matriz[i-1][j], matriz[i][vector_valor[j]-sistema_moneda[i-1]]+1)   \n",
        "\n",
        "  return matriz\n",
        "\n",
        "cambio_moneda2(8, [1,4,6])"
      ],
      "metadata": {
        "id": "rwV14QujNe2U",
        "outputId": "fd426421-b200-4e4c-f532-b4845229892b",
        "colab": {
          "base_uri": "https://localhost:8080/"
        }
      },
      "execution_count": 53,
      "outputs": [
        {
          "output_type": "execute_result",
          "data": {
            "text/plain": [
              "[[inf, inf, inf, inf, inf, inf, inf, inf, inf],\n",
              " [0, 1, 2, 3, 4, 5, 6, 7, 8],\n",
              " [0, 1, 2, 3, 1, 2, 3, 4, 2],\n",
              " [0, 1, 2, 3, 1, 2, 1, 2, 2]]"
            ]
          },
          "metadata": {},
          "execution_count": 53
        }
      ]
    },
    {
      "cell_type": "code",
      "source": [
        "cambio_moneda2(8, [4,6])"
      ],
      "metadata": {
        "id": "frk_omTX1KrX",
        "outputId": "dfbebd16-6555-4f2a-e731-816f8afabb23",
        "colab": {
          "base_uri": "https://localhost:8080/"
        }
      },
      "execution_count": 56,
      "outputs": [
        {
          "output_type": "execute_result",
          "data": {
            "text/plain": [
              "[[inf, inf, inf, inf, inf, inf, inf, inf, inf],\n",
              " [0, inf, inf, inf, 1, inf, inf, inf, 2],\n",
              " [0, inf, inf, inf, 1, inf, 1, inf, 2]]"
            ]
          },
          "metadata": {},
          "execution_count": 56
        }
      ]
    },
    {
      "cell_type": "code",
      "source": [
        "cambio_moneda2(15, [1,5,11])"
      ],
      "metadata": {
        "id": "yikGCiIBYnG5",
        "outputId": "50e7f991-d388-4e1d-e539-9a36076ba23e",
        "colab": {
          "base_uri": "https://localhost:8080/"
        }
      },
      "execution_count": 57,
      "outputs": [
        {
          "output_type": "execute_result",
          "data": {
            "text/plain": [
              "[[inf,\n",
              "  inf,\n",
              "  inf,\n",
              "  inf,\n",
              "  inf,\n",
              "  inf,\n",
              "  inf,\n",
              "  inf,\n",
              "  inf,\n",
              "  inf,\n",
              "  inf,\n",
              "  inf,\n",
              "  inf,\n",
              "  inf,\n",
              "  inf,\n",
              "  inf],\n",
              " [0, 1, 2, 3, 4, 5, 6, 7, 8, 9, 10, 11, 12, 13, 14, 15],\n",
              " [0, 1, 2, 3, 4, 1, 2, 3, 4, 5, 2, 3, 4, 5, 6, 3],\n",
              " [0, 1, 2, 3, 4, 1, 2, 3, 4, 5, 2, 1, 2, 3, 4, 3]]"
            ]
          },
          "metadata": {},
          "execution_count": 57
        }
      ]
    },
    {
      "cell_type": "markdown",
      "source": [],
      "metadata": {
        "id": "b92B3Mg7QsKl"
      }
    }
  ]
}